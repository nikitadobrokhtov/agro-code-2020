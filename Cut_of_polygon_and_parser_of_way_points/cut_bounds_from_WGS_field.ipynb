{
  "nbformat": 4,
  "nbformat_minor": 0,
  "metadata": {
    "colab": {
      "name": "Обрезание_краёв_у_поля_WGS.ipynb",
      "provenance": [],
      "collapsed_sections": []
    },
    "kernelspec": {
      "name": "python3",
      "display_name": "Python 3"
    }
  },
  "cells": [
    {
      "cell_type": "code",
      "metadata": {
        "colab": {
          "base_uri": "https://localhost:8080/"
        },
        "id": "SCwN2CbthxNQ",
        "outputId": "1d7f4577-fb02-46f1-d410-48b8efccb5e7"
      },
      "source": [
        "!pip install pyproj\n",
        "from pyproj import Transformer\n",
        "\n",
        "!pip install shapely\n",
        "###############################imports from shapely#######################\n",
        "import shapely\n",
        "from shapely.geometry import Polygon\n",
        "\n",
        "#ускоряем shapely\n",
        "from shapely import speedups\n",
        "speedups.enable()\n",
        "\n",
        "\n",
        "\n",
        "\n",
        "def cut_buffer_from_WGS(poly_WGS, buffer0):\n",
        "    name_kml = \"epsg:4326\" # names of CRS used\n",
        "    name_ortog = \"epsg:20009\"\n",
        "\n",
        "    transformer_2 = Transformer.from_crs(name_ortog, name_kml)\n",
        "\n",
        "    transformer_1 = Transformer.from_crs(name_kml, name_ortog)\n",
        "\n",
        "    long_WGS, lat_WGS = poly_WGS.exterior.coords.xy\n",
        "\n",
        "    points_ortog_list = []\n",
        "    for i in range(len(long_WGS)):\n",
        "        x, y = transformer_1.transform(long_WGS[i], lat_WGS[i])\n",
        "        points_ortog_list += [(x, y)]\n",
        "\n",
        "\n",
        "    PolygonOrtog = Polygon(points_ortog_list)\n",
        "    print(\"PolygonOrtog = \", PolygonOrtog)\n",
        "    Small_Polyg_Ortog = PolygonOrtog.buffer( - buffer0 )\n",
        "    print(\"Small_Polyg_Ortog = \", Small_Polyg_Ortog)\n",
        "\n",
        "    z, t = Small_Polyg_Ortog.exterior.coords.xy\n",
        "\n",
        "    points_WGS_list = []\n",
        "    for i in range(len(z)):\n",
        "        long, lat = transformer_2.transform(z[i], t[i])\n",
        "        points_WGS_list += [(long, lat)]\n",
        "\n",
        "\n",
        "    Polygon_WGS_Cut = Polygon(points_WGS_list)\n",
        "    if (Polygon_WGS_Cut.is_valid != True):\n",
        "        Polygon_WGS_Cut = Polygon_WGS_Cut.buffer(0)\n",
        "\n",
        "    return Polygon_WGS_Cut\n",
        "\n",
        "\n",
        "\n",
        "### EXAMPLE\n",
        "#poly_WGS = Polygon([(45.0, 50.0), (45.0, 51.0), (46.0, 51.0), (45.0, 50.0)])\n",
        "#my_buffer = 1000\n",
        "#poly_WGS_2 = cut_buffer_from_WGS(poly_WGS, my_buffer)\n",
        "\n",
        "#print(\"poly_WGS_2 = \", poly_WGS_2)"
      ],
      "execution_count": null,
      "outputs": [
        {
          "output_type": "stream",
          "text": [
            "Collecting pyproj\n",
            "\u001b[?25l  Downloading https://files.pythonhosted.org/packages/e4/ab/280e80a67cfc109d15428c0ec56391fc03a65857b7727cf4e6e6f99a4204/pyproj-3.0.0.post1-cp36-cp36m-manylinux2010_x86_64.whl (6.4MB)\n",
            "\u001b[K     |████████████████████████████████| 6.5MB 4.0MB/s \n",
            "\u001b[?25hRequirement already satisfied: certifi in /usr/local/lib/python3.6/dist-packages (from pyproj) (2020.12.5)\n",
            "Installing collected packages: pyproj\n",
            "Successfully installed pyproj-3.0.0.post1\n",
            "Requirement already satisfied: shapely in /usr/local/lib/python3.6/dist-packages (1.7.1)\n"
          ],
          "name": "stdout"
        }
      ]
    }
  ]
}